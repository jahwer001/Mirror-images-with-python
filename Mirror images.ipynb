{
 "cells": [
  {
   "cell_type": "code",
   "execution_count": 3,
   "id": "8145f9bd",
   "metadata": {},
   "outputs": [
    {
     "name": "stdout",
     "output_type": "stream",
     "text": [
      "Requirement already satisfied: pillow in c:\\users\\rjabj\\anaconda3\\lib\\site-packages (9.2.0)\n",
      "Note: you may need to restart the kernel to use updated packages.\n"
     ]
    }
   ],
   "source": [
    "pip install pillow\n"
   ]
  },
  {
   "cell_type": "code",
   "execution_count": null,
   "id": "405a7b37",
   "metadata": {},
   "outputs": [],
   "source": [
    "import os\n",
    "from PIL import Image\n",
    "input_folder = 'C:/Users/rjabj/Desktop/projects/au cour/our_dataset/Data_jpg/b'\n",
    "output_folder = 'C:/Users/rjabj/Desktop/projects/au cour/our_dataset/Mirror'\n",
    "os.makedirs(output_folder, exist_ok=True)\n",
    "\n",
    "# Loop through all files in the input folder\n",
    "for filename in os.listdir(input_folder):\n",
    "    if filename.lower().endswith('.jpg'):\n",
    "        image_path = os.path.join(input_folder, filename)\n",
    "        image = Image.open(image_path)\n",
    "\n",
    "        # Mirror (flip horizontally)\n",
    "        mirrored_image = image.transpose(Image.FLIP_LEFT_RIGHT)\n",
    "\n",
    "        # Save the mirrored image\n",
    "        output_path = os.path.join(output_folder, f'mirrored_{filename}')\n",
    "        mirrored_image.save(output_path)\n",
    "\n",
    "        print(f'Mirrored image saved: {output_path}')\n"
   ]
  },
  {
   "cell_type": "code",
   "execution_count": null,
   "id": "5f5357e5",
   "metadata": {},
   "outputs": [],
   "source": []
  }
 ],
 "metadata": {
  "kernelspec": {
   "display_name": "Python 3 (ipykernel)",
   "language": "python",
   "name": "python3"
  },
  "language_info": {
   "codemirror_mode": {
    "name": "ipython",
    "version": 3
   },
   "file_extension": ".py",
   "mimetype": "text/x-python",
   "name": "python",
   "nbconvert_exporter": "python",
   "pygments_lexer": "ipython3",
   "version": "3.9.13"
  }
 },
 "nbformat": 4,
 "nbformat_minor": 5
}
